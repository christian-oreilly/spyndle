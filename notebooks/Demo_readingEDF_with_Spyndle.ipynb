{
 "cells": [
  {
   "cell_type": "markdown",
   "metadata": {},
   "source": [
    "### Creating and EDF reader object using the raw PSG plus separated annotation files for sleep stages, sleep spindles and K-complexes."
   ]
  },
  {
   "cell_type": "code",
   "execution_count": 6,
   "metadata": {
    "collapsed": true
   },
   "outputs": [],
   "source": [
    "import os\n",
    "\n",
    "# !pip install git+https://github.com/christian-oreilly/spyndle.git\n",
    "from spyndle.io import EDFReader\n",
    "\n",
    "massPath = \"/home/oreilly/MASS\"\n",
    "\n",
    "# Contains the raw signals\n",
    "psg = os.path.join(massPath, \"01-02-0002 PSG.edf\")\n",
    "\n",
    "annotationFileNames = [\n",
    "    \"01-02-0001 Base.edf\",           # Sleep stage annotations\n",
    "    \"01-02-0001 KComplexesE1.edf\",  # K-complex annotations from first expert\n",
    "    \"01-02-0001 SpindleE1.edf\",     # Spindle annotations from first expert\n",
    "    \"01-02-0001 SpindleE2.edf\"      # Spindle annotations from second expert\n",
    "]\n",
    "\n",
    "annotations = [os.path.join(massPath, fileName) for fileName in annotationFileNames]\n",
    "\n",
    "reader = EDFReader(fileName=psg, \n",
    "                   annotationFileName=annotations)"
   ]
  },
  {
   "cell_type": "markdown",
   "metadata": {},
   "source": [
    "Checking that events have been load properly:"
   ]
  },
  {
   "cell_type": "code",
   "execution_count": 20,
   "metadata": {},
   "outputs": [
    {
     "name": "stdout",
     "output_type": "stream",
     "text": [
      "The list object contains 5324 members:\n",
      "Sleep stage 1:77\n",
      "Sleep stage 2:745\n",
      "Sleep stage 3:105\n",
      "Sleep stage 4:170\n",
      "Sleep stage ?:33\n",
      "Sleep stage R:242\n",
      "Sleep stage W:47\n",
      "kComplexE1:409\n",
      "spindleE1:1044\n",
      "spindleE2:2452\n",
      "\n"
     ]
    }
   ],
   "source": [
    "print(reader.events)"
   ]
  },
  {
   "cell_type": "code",
   "execution_count": 57,
   "metadata": {},
   "outputs": [
    {
     "name": "stdout",
     "output_type": "stream",
     "text": [
      "<class 'spyndle.io.edf.EDFEvent'>\n",
      "groups:Stage channel: name:Sleep stage 4 startTime:2160.76076 duration:19.998720000000002 properties:{}\n"
     ]
    }
   ],
   "source": [
    "print(type(reader.events[200]))\n",
    "print(reader.events[200])"
   ]
  },
  {
   "cell_type": "markdown",
   "metadata": {},
   "source": [
    "Listing available channels:"
   ]
  },
  {
   "cell_type": "code",
   "execution_count": 25,
   "metadata": {},
   "outputs": [
    {
     "data": {
      "text/plain": [
       "['Resp nasal',\n",
       " 'EEG T4-CLE',\n",
       " 'EEG P3-CLE',\n",
       " 'EOG Left Horiz',\n",
       " 'EEG F4-CLE',\n",
       " 'EOG Right Horiz',\n",
       " 'ECG I',\n",
       " 'EEG T6-CLE',\n",
       " 'EEG Cz-CLE',\n",
       " 'EEG T5-CLE',\n",
       " 'EEG F7-CLE',\n",
       " 'EOG Upper Vertic',\n",
       " 'EEG T3-CLE',\n",
       " 'EEG C3-CLE',\n",
       " 'EEG Fp2-CLE',\n",
       " 'EEG O1-CLE',\n",
       " 'EEG Pz-CLE',\n",
       " 'EEG O2-CLE',\n",
       " 'EEG Fp1-CLE',\n",
       " 'EEG P4-CLE',\n",
       " 'EMG Chin',\n",
       " 'EEG Fpz-CLE',\n",
       " 'EEG F3-CLE',\n",
       " 'EEG C4-CLE',\n",
       " 'EEG A2-CLE',\n",
       " 'EEG F8-CLE',\n",
       " 'EOG Lower Vertic']"
      ]
     },
     "execution_count": 25,
     "metadata": {},
     "output_type": "execute_result"
    }
   ],
   "source": [
    "reader.getChannelLabels()"
   ]
  },
  {
   "cell_type": "markdown",
   "metadata": {},
   "source": [
    "Reading the signals for channel C3 and C4 for the duration of one scoring epochs (~20 s). "
   ]
  },
  {
   "cell_type": "code",
   "execution_count": 31,
   "metadata": {},
   "outputs": [
    {
     "data": {
      "text/plain": [
       "{'EEG C3-CLE': <spyndle.io.EEGDatabaseReader.RecordedChannel at 0x7f56caa66fd0>,\n",
       " 'EEG C4-CLE': <spyndle.io.EEGDatabaseReader.RecordedChannel at 0x7f56caa66080>}"
      ]
     },
     "execution_count": 31,
     "metadata": {},
     "output_type": "execute_result"
    }
   ],
   "source": [
    "startTime = reader.events[200].startTime\n",
    "duration = reader.events[200].duration()\n",
    "signals = reader.read(['EEG C3-CLE', 'EEG C4-CLE'], startTime, duration)\n",
    "signals"
   ]
  },
  {
   "cell_type": "code",
   "execution_count": 58,
   "metadata": {},
   "outputs": [
    {
     "name": "stdout",
     "output_type": "stream",
     "text": [
      "signal:[-14.4251804  -14.16849982 -13.66315994 ...,   7.45683877   4.97826695\n",
      "   3.70288534], samplingRate:256.0163850486431, type:None, startTime:2160.764046\n"
     ]
    }
   ],
   "source": [
    "print(signals['EEG C3-CLE'])"
   ]
  },
  {
   "cell_type": "markdown",
   "metadata": {},
   "source": [
    "Plotting the signal for C3"
   ]
  },
  {
   "cell_type": "code",
   "execution_count": 39,
   "metadata": {},
   "outputs": [
    {
     "data": {
      "text/plain": [
       "[<matplotlib.lines.Line2D at 0x7f56d0321b38>]"
      ]
     },
     "execution_count": 39,
     "metadata": {},
     "output_type": "execute_result"
    },
    {
     "data": {
      "image/png": "[encoded data removed]",
      "text/plain": [
       "<matplotlib.figure.Figure at 0x7f56caab3f98>"
      ]
     },
     "metadata": {},
     "output_type": "display_data"
    }
   ],
   "source": [
    "import matplotlib.pylab as plt \n",
    "import numpy as np\n",
    "%matplotlib inline\n",
    "\n",
    "time = np.arange(len(signals['EEG C3-CLE'].signal))/signals['EEG C3-CLE'].samplingRate + signals['EEG C3-CLE'].startTime\n",
    "plt.plot(time, signals['EEG C3-CLE'].signal)"
   ]
  },
  {
   "cell_type": "markdown",
   "metadata": {},
   "source": [
    "Are there any other events during the time window?"
   ]
  },
  {
   "cell_type": "code",
   "execution_count": 60,
   "metadata": {},
   "outputs": [
    {
     "data": {
      "text/plain": [
       "[]"
      ]
     },
     "execution_count": 60,
     "metadata": {},
     "output_type": "execute_result"
    }
   ],
   "source": [
    "[e for e in reader.events if e.startTime > startTime and e.startTime < startTime + duration]"
   ]
  },
  {
   "cell_type": "markdown",
   "metadata": {},
   "source": [
    "No! No spindles or K-complex have been annotated during the epoch."
   ]
  },
  {
   "cell_type": "markdown",
   "metadata": {},
   "source": [
    "### Signal From whole channels can also be loaded at one like this:"
   ]
  },
  {
   "cell_type": "code",
   "execution_count": 44,
   "metadata": {},
   "outputs": [
    {
     "name": "stdout",
     "output_type": "stream",
     "text": [
      "signal:[  3.93654430e+01   3.62612122e+01   4.11541857e+01 ...,  -2.94048981e-03\n",
      "  -2.94048981e-03  -2.94048981e-03], samplingRate:256.0163850486431, type:EEG, startTime:2000-01-01 22:35:58\n"
     ]
    }
   ],
   "source": [
    "channelSignal = reader.readChannel('EEG C3-CLE')\n",
    "print(channelSignal)"
   ]
  },
  {
   "cell_type": "code",
   "execution_count": 48,
   "metadata": {},
   "outputs": [
    {
     "data": {
      "text/plain": [
       "[<matplotlib.lines.Line2D at 0x7f56cacd58d0>]"
      ]
     },
     "execution_count": 48,
     "metadata": {},
     "output_type": "execute_result"
    },
    {
     "data": {
      "image/png": "[encoded data removed]",
      "text/plain": [
       "<matplotlib.figure.Figure at 0x7f56cacf51d0>"
      ]
     },
     "metadata": {},
     "output_type": "display_data"
    }
   ],
   "source": [
    "time = np.arange(len(channelSignal.signal))/channelSignal.samplingRate/3600\n",
    "plt.plot(time, channelSignal.signal)"
   ]
  },
  {
   "cell_type": "markdown",
   "metadata": {},
   "source": [
    "EDF files are splitted internally in records which are read iteratively. Only requested epochs are loaded in memory. That is, we are \"streaming\" the file. This is a kind of \"lazy loading\". The whole file is not loaded at one in memory to avoid memory issues with large files."
   ]
  },
  {
   "cell_type": "code",
   "execution_count": null,
   "metadata": {
    "collapsed": true
   },
   "outputs": [],
   "source": []
  }
 ],
 "metadata": {
  "kernelspec": {
   "display_name": "Python 3",
   "language": "python",
   "name": "python3"
  },
  "language_info": {
   "codemirror_mode": {
    "name": "ipython",
    "version": 3
   },
   "file_extension": ".py",
   "mimetype": "text/x-python",
   "name": "python",
   "nbconvert_exporter": "python",
   "pygments_lexer": "ipython3",
   "version": "3.5.2"
  }
 },
 "nbformat": 4,
 "nbformat_minor": 2
}
